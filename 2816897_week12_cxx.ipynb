{
 "cells": [
  {
   "cell_type": "code",
   "execution_count": null,
   "id": "eb062a16-1d57-40f3-a141-de0e02871ed9",
   "metadata": {},
   "outputs": [],
   "source": []
  },
  {
   "cell_type": "markdown",
   "id": "4eafcc3a-1d2d-4416-8bd6-300d672558cc",
   "metadata": {},
   "source": [
    "***\n",
    "\n",
    "**DUISC | SCEN | PMP | Scientific Computing and Data Analysis<br>\n",
    "P_ISC35 | Python | ODE-1 | worksheet 2 | solving first-order ODEs | numerical solution using the Euler method | implementation in C<br>\n",
    "XU Jiachen | 2024-01-29**\n",
    "\n",
    "***"
   ]
  },
  {
   "cell_type": "markdown",
   "id": "5c33183a-5d6d-41d1-8e6e-27b6c9c4b474",
   "metadata": {},
   "source": [
    "# Solving a first-order ODE using the Euler method\n",
    "The Euler method is one of the simplest numerical methods for solving ordinary differential equations (ODEs). The _forward_ Euler method can be used to approximate the derivative by considering small increments in time as shown in $(1)$. Typically, a fixed _step size_ $h$ is used, resulting in $(2)$. Rearranging $(2)$, we can obtain an equation to calculate the _next_ value base on the _current_ value and the gradient at the current point in time, such as $(3)$. The gradient $\\dfrac{dy}{dt}$ would be determined by some function such as $f(y_i,t_i)$ and may also be based on other variables such as inputs to a system, resulting in the general form of $(4)$.\n",
    "\n",
    "\\begin{align}\n",
    "    \\dfrac{dy}{dt} &\\approx \\dfrac{y_{i+1}-y_{i}}{t_{i+1}-t_{i}} \\tag{1}\\\\\n",
    "    \\dot{y} &\\approx \\dfrac{y_{i+1}-y_{i}}{h} \\tag{2}\\\\\n",
    "    y_{i+1} &= y_{i} + h\\dot{y} \\tag{3}\\\\\n",
    "    y_{i+1} &= y_{i} + hf(y_i,t_i) \\tag{4}\\\\\n",
    "    \\text{next} &= \\text{current} + (\\text{step}\\times\\text{gradient})\n",
    "\\end{align}"
   ]
  },
  {
   "cell_type": "markdown",
   "id": "b1563475-9326-4fb5-8e28-326c00e4c9ec",
   "metadata": {},
   "source": [
    "## The R-C circuit example\n",
    "As described in the previous worksheet, the ODE for our example RC system is shown in Equation $(5)$.\n",
    "\\begin{align}\n",
    "\\dot{y} &= \\dfrac{x(t)-y(t)}{\\tau}\\tag{5}\n",
    "\\end{align}"
   ]
  },
  {
   "cell_type": "markdown",
   "id": "4d387763-2139-40e8-9944-51cba0799731",
   "metadata": {},
   "source": [
    "### Euler numercial solution\n",
    "For our system, we can see that the derivative or gradient depends on the values of both our input $x$ and output $y$, both of which can change over time. For systems were our derivatives are with respect to time, Newton's shorter _dot_ notation is commonly used. Referring back to our general Euler equations, we can now write an equation to compute the _next_ value of $y$ based on _current_ values of both $x$ and $y$. \n",
    "\n",
    "\\begin{align}\n",
    "y_{i+1} &= y_{i} + h \\dot{y} \\tag{6}\\\\\n",
    "\\dot{y} &= f(x_i, y_i)  \\tag{7}\n",
    "\\end{align}\n",
    "\n",
    "To implement this solution in code, we simply need to create and populate vectors for $t$ and $x$, create an ODE function $\\dot{y}$, set an initial value for the solution variable $y_{0}$ and then use a basic loop to iterate over all values in $t$, calculating values of $y_{i+1}$ where $i=0,1,2,\\ldots$ using the $\\dot{y}$ ODE function."
   ]
  },
  {
   "cell_type": "markdown",
   "id": "54659dbc-ee7c-4cd9-a6ad-70254641b23d",
   "metadata": {},
   "source": [
    "We an make use of the `vector` data type in `C++`. Online documentation can be found here: [std::vector](https://en.cppreference.com/w/cpp/container/vector)"
   ]
  },
  {
   "cell_type": "code",
   "execution_count": 1,
   "id": "d286a165-e756-435f-ba79-5e11841f99a4",
   "metadata": {},
   "outputs": [],
   "source": [
    "#include <iostream>\n",
    "#include <fstream>\n",
    "#include <string>\n",
    "#include <vector>\n",
    "\n",
    "using namespace std;"
   ]
  },
  {
   "cell_type": "markdown",
   "id": "2e20602e-828b-4ff1-9c54-b79a3d44e15a",
   "metadata": {},
   "source": [
    "### System structure and general functions"
   ]
  },
  {
   "cell_type": "markdown",
   "id": "138cfb7b-bf2d-406f-bbf3-e35c7a99f320",
   "metadata": {},
   "source": [
    "#### Structure to hold system parameters and data vectors"
   ]
  },
  {
   "cell_type": "code",
   "execution_count": 2,
   "id": "c00783ff-a236-4144-84fc-ebfaf5c01391",
   "metadata": {},
   "outputs": [],
   "source": [
    "struct aSystem\n",
    "{\n",
    "    // properties of the body\n",
    "    string title;      // title: used on graphs\n",
    "    double g;          // acceleration due to gravity\n",
    "    double m;          // mass of falling object(kg)\n",
    "    double k_d;        // combined drag coefficient\n",
    "    \n",
    "    // vector type arrays to hold the computed data points\n",
    "    vector<double> t = {};    // time (s)\n",
    "    vector<double> x = {};    // distance x(t)\n",
    "    vector<double> v = {};    // velocity v(t)\n",
    "}"
   ]
  },
  {
   "cell_type": "markdown",
   "id": "fb8a96b1-e458-49f5-aa08-3652e0412428",
   "metadata": {},
   "source": [
    "#### General functions to display data and save as CSV file"
   ]
  },
  {
   "cell_type": "code",
   "execution_count": 3,
   "id": "e644a35b-4bec-4d01-b85d-c5ce313d0d92",
   "metadata": {},
   "outputs": [],
   "source": [
    "void system_dump(aSystem *ptr)\n",
    "{\n",
    "    int i;\n",
    "    \n",
    "    cout << \"title = \" << ptr->title << endl;\n",
    "    cout << scientific << setprecision(6);\n",
    "    cout << \"g = \" << ptr->g << endl;\n",
    "    cout << \"m = \" << ptr->m << endl;\n",
    "    cout << \"k_d = \" << ptr->k_d << endl;\n",
    "    cout << \"size(t) = \" << ptr->t.size() << endl;\n",
    "    cout << \"size(x) = \" << ptr->x.size() << endl;\n",
    "    cout << \"size(v) = \" << ptr->v.size() << endl;\n",
    "\n",
    "    // header\n",
    "    cout << \"i, t, x, v\" << endl;\n",
    "\n",
    "    // data as CSV\n",
    "    if ((ptr->t.size() > 0) && (ptr->x.size() > 0) && (ptr->v.size() > 0))\n",
    "    {\n",
    "        for (i=0; i<ptr->t.size(); i++)\n",
    "        {\n",
    "            cout << i << \", \";\n",
    "            cout << ptr->t[i] << \", \";\n",
    "            cout << ptr->x[i] << \", \";\n",
    "            cout << ptr->v[i] << endl;\n",
    "        }\n",
    "    }\n",
    "    else\n",
    "    {\n",
    "        cout << \"no data\" << endl;\n",
    "    }\n",
    "}"
   ]
  },
  {
   "cell_type": "code",
   "execution_count": 4,
   "id": "39144e23-dff8-402d-869d-bbb47705e531",
   "metadata": {},
   "outputs": [],
   "source": [
    "void write_parameters_csv(aSystem *ptr, string csv_path)\n",
    "{\n",
    "    // write parameters to CSV file\n",
    "    ofstream csv_file;\n",
    "\n",
    "    csv_file.open(csv_path);\n",
    "\n",
    "    // header\n",
    "    csv_file << \"parameter,value\" << endl;\n",
    "\n",
    "    // data\n",
    "    csv_file << \"title,\" << ptr->title << endl;\n",
    "    csv_file << scientific << setprecision(6);\n",
    "    csv_file << \"g,\" << ptr->g << endl;\n",
    "    csv_file << \"m,\" << ptr->m << endl;\n",
    "    csv_file << \"k_d,\" << ptr->k_d << endl;\n",
    "\n",
    "    csv_file.close();\n",
    "}"
   ]
  },
  {
   "cell_type": "code",
   "execution_count": 5,
   "id": "8cfe9b46-448c-4796-a05f-a9c9f463b886",
   "metadata": {},
   "outputs": [],
   "source": [
    "void write_data_csv(aSystem *ptr, string csv_path)\n",
    "{\n",
    "    // write data to CSV file\n",
    "    ofstream csv_file;\n",
    "    int i;\n",
    "\n",
    "    csv_file.open(csv_path);\n",
    "\n",
    "    // header\n",
    "    csv_file << \"i,t,x,v\" << endl;\n",
    "\n",
    "    // data\n",
    "    if ((ptr->t.size() > 0) && (ptr->x.size() > 0) && (ptr->v.size() > 0))\n",
    "    {\n",
    "        for (i=0; i<ptr->t.size(); i++)\n",
    "        {\n",
    "            csv_file << i << \",\";\n",
    "            csv_file << scientific << setprecision(6);\n",
    "            csv_file << ptr->t[i] << \",\";\n",
    "            csv_file << ptr->x[i] << \",\";\n",
    "            csv_file << ptr->v[i] << endl;\n",
    "        }\n",
    "    }\n",
    "\n",
    "    csv_file.close();\n",
    "}"
   ]
  },
  {
   "cell_type": "markdown",
   "id": "1f256cdf-c821-4733-a71e-0a0feed5e857",
   "metadata": {},
   "source": [
    "#### The system ODE function"
   ]
  },
  {
   "cell_type": "code",
   "execution_count": 6,
   "id": "3bba34dd-3fda-4ac3-aba6-53853709d10f",
   "metadata": {},
   "outputs": [],
   "source": [
    "double vdot(double *curr_state, aSystem *the_system)\n",
    "{   \n",
    "    double x = curr_state[0];\n",
    "    double v = curr_state[1];\n",
    "    double g = the_system->g;\n",
    "    double m = the_system->m;\n",
    "    double k_d = the_system->k_d;\n",
    "    \n",
    "    return g - ((k_d * v * fabs(v)) / m);\n",
    "}"
   ]
  },
  {
   "cell_type": "code",
   "execution_count": 7,
   "id": "77bd606b-2adf-4348-921d-8d5b003fb733",
   "metadata": {},
   "outputs": [],
   "source": [
    "double xdot(double *curr_state, aSystem *the_system)\n",
    "{\n",
    "    double x = curr_state[0];\n",
    "    double v = curr_state[1];\n",
    "\n",
    "    return v;\n",
    "}"
   ]
  },
  {
   "cell_type": "markdown",
   "id": "a0f2cf7b-b0bf-415a-a8d3-600208ef56d7",
   "metadata": {},
   "source": [
    "#### The ODE solver function using the Euler method"
   ]
  },
  {
   "cell_type": "code",
   "execution_count": null,
   "id": "efe409fc-4ea3-4699-8809-cf0866d53d85",
   "metadata": {},
   "outputs": [],
   "source": []
  },
  {
   "cell_type": "code",
   "execution_count": 8,
   "id": "f321d067-eb93-4ca0-a02d-9f86eae9fb4a",
   "metadata": {},
   "outputs": [],
   "source": [
    "int ode_solver_euler(\n",
    "double (*f_ode_1)(double*, aSystem*),\n",
    "double (*f_ode_2)(double*, aSystem*),\n",
    "double *initial_conditions,\n",
    "aSystem *the_system\n",
    ")\n",
    "{\n",
    "    // local variables\n",
    "    int i;\n",
    "    double h;\n",
    "    double curr_state[2];\n",
    "    double v0;\n",
    "    double x0;\n",
    "\n",
    "    // we will write solution data directly into system structure\n",
    "    \n",
    "    // append initial values\n",
    "    x0 = initial_conditions[0];\n",
    "    v0 = initial_conditions[1];\n",
    "    the_system->x.push_back(x0);\n",
    "    the_system->v.push_back(v0);\n",
    "    \n",
    "    // computational loop\n",
    "    for (i=0; i < the_system->t.size()-1; i++)\n",
    "    {\n",
    "        // calcuate step size from t vector\n",
    "        h = the_system->t[i+1] - the_system->t[i];\n",
    "\n",
    "        // current states (input x, and ouput y)\n",
    "        curr_state[0] = the_system->x[i];\n",
    "        curr_state[1] = the_system->v[i];\n",
    "        \n",
    "        // Euler method to compute next value of solution\n",
    "        // y[i+1] = y[i] + (h * ydot(x[i], y[i]))\n",
    "        the_system->v.push_back(the_system->v[i] + (h * f_ode_1(curr_state, the_system)));\n",
    "        the_system->x.push_back(the_system->x[i] + (h * f_ode_2(curr_state, the_system)));\n",
    "    }\n",
    "    \n",
    "    // return the number of computations\n",
    "    return i+1;\n",
    "}"
   ]
  },
  {
   "cell_type": "markdown",
   "id": "b68d118d-c63f-4f77-a904-41bd07cfe2a3",
   "metadata": {},
   "source": [
    "### Main program"
   ]
  },
  {
   "cell_type": "markdown",
   "id": "352ac4f2-a55d-4462-9bf5-474d62e53253",
   "metadata": {},
   "source": [
    "#### Create a test system for the RC circuit"
   ]
  },
  {
   "cell_type": "code",
   "execution_count": 9,
   "id": "549c80f4-bd05-47b1-9a31-844b876f39a8",
   "metadata": {},
   "outputs": [],
   "source": [
    "// MAIN PROGRAM\n",
    "\n",
    "// create a system for the RC circuit\n",
    "// we just need to pass the values of the first three variables in the structure\n",
    "struct aSystem falling_jiachen = {\"Falling jiachen\", 9.81, 67, 0.24};"
   ]
  },
  {
   "cell_type": "markdown",
   "id": "5416e026-aa22-436b-b57e-dfd1b1e184be",
   "metadata": {},
   "source": [
    "#### Create vectors for time $t$ and input $x$"
   ]
  },
  {
   "cell_type": "code",
   "execution_count": 10,
   "id": "786dea01-542a-497a-a581-2c84bd94fe3b",
   "metadata": {},
   "outputs": [
    {
     "name": "stdout",
     "output_type": "stream",
     "text": [
      "title = Falling jiachen\n",
      "g = 9.810000e+00\n",
      "m = 6.700000e+01\n",
      "k_d = 2.400000e-01\n",
      "size(t) = 101\n",
      "size(x) = 0\n",
      "size(v) = 0\n",
      "i, t, x, v\n",
      "no data\n"
     ]
    }
   ],
   "source": [
    "// create a vector of time values in our system\n",
    "int i = 0;\n",
    "int n = 101;\n",
    "double T = 50;\n",
    "double h = T / (n - 1);\n",
    "\n",
    "for (i=0; i<n; i++)\n",
    "{\n",
    "    falling_jiachen.t.push_back(h * i);\n",
    "}\n",
    "\n",
    "system_dump(&falling_jiachen);"
   ]
  },
  {
   "cell_type": "markdown",
   "id": "2d0a616f-2ce2-443a-bcbc-9e021c7f2b42",
   "metadata": {},
   "source": [
    "#### Compute solution data for output $y$"
   ]
  },
  {
   "cell_type": "code",
   "execution_count": 11,
   "id": "aa88d786-f3be-4f67-bd3d-bdb7f3dcaabf",
   "metadata": {},
   "outputs": [
    {
     "name": "stdout",
     "output_type": "stream",
     "text": [
      "title = Falling jiachen\n",
      "g = 9.810000e+00\n",
      "m = 6.700000e+01\n",
      "k_d = 2.400000e-01\n",
      "size(t) = 101\n",
      "size(x) = 101\n",
      "size(v) = 101\n",
      "i, t, x, v\n",
      "0, 0.000000e+00, 0.000000e+00, 0.000000e+00\n",
      "1, 5.000000e-01, 0.000000e+00, 4.905000e+00\n",
      "2, 1.000000e+00, 2.452500e+00, 9.766909e+00\n",
      "3, 1.500000e+00, 7.335955e+00, 1.450106e+01\n",
      "4, 2.000000e+00, 1.458648e+01, 1.902943e+01\n",
      "5, 2.500000e+00, 2.410120e+01, 2.328586e+01\n",
      "6, 3.000000e+00, 3.574413e+01, 2.721970e+01\n",
      "7, 3.500000e+00, 4.935398e+01, 3.079770e+01\n",
      "8, 4.000000e+00, 6.475283e+01, 3.400389e+01\n",
      "9, 4.500000e+00, 8.175478e+01, 3.683797e+01\n",
      "10, 5.000000e+00, 1.001738e+02, 3.931246e+01\n",
      "11, 5.500000e+00, 1.198300e+02, 4.144945e+01\n",
      "12, 6.000000e+00, 1.405547e+02, 4.327734e+01\n",
      "13, 6.500000e+00, 1.621934e+02, 4.482784e+01\n",
      "14, 7.000000e+00, 1.846073e+02, 4.613367e+01\n",
      "15, 7.500000e+00, 2.076741e+02, 4.722676e+01\n",
      "16, 8.000000e+00, 2.312875e+02, 4.813708e+01\n",
      "17, 8.500000e+00, 2.553561e+02, 4.889191e+01\n",
      "18, 9.000000e+00, 2.798020e+02, 4.951556e+01\n",
      "19, 9.500000e+00, 3.045598e+02, 5.002929e+01\n",
      "20, 1.000000e+01, 3.295744e+02, 5.045143e+01\n",
      "21, 1.050000e+01, 3.548002e+02, 5.079760e+01\n",
      "22, 1.100000e+01, 3.801990e+02, 5.108100e+01\n",
      "23, 1.150000e+01, 4.057395e+02, 5.131268e+01\n",
      "24, 1.200000e+01, 4.313958e+02, 5.150188e+01\n",
      "25, 1.250000e+01, 4.571467e+02, 5.165623e+01\n",
      "26, 1.300000e+01, 4.829748e+02, 5.178207e+01\n",
      "27, 1.350000e+01, 5.088659e+02, 5.188459e+01\n",
      "28, 1.400000e+01, 5.348082e+02, 5.196808e+01\n",
      "29, 1.450000e+01, 5.607922e+02, 5.203604e+01\n",
      "30, 1.500000e+01, 5.868102e+02, 5.209134e+01\n",
      "31, 1.550000e+01, 6.128559e+02, 5.213632e+01\n",
      "32, 1.600000e+01, 6.389241e+02, 5.217291e+01\n",
      "33, 1.650000e+01, 6.650105e+02, 5.220267e+01\n",
      "34, 1.700000e+01, 6.911119e+02, 5.222686e+01\n",
      "35, 1.750000e+01, 7.172253e+02, 5.224652e+01\n",
      "36, 1.800000e+01, 7.433485e+02, 5.226251e+01\n",
      "37, 1.850000e+01, 7.694798e+02, 5.227550e+01\n",
      "38, 1.900000e+01, 7.956176e+02, 5.228607e+01\n",
      "39, 1.950000e+01, 8.217606e+02, 5.229465e+01\n",
      "40, 2.000000e+01, 8.479079e+02, 5.230162e+01\n",
      "41, 2.050000e+01, 8.740587e+02, 5.230729e+01\n",
      "42, 2.100000e+01, 9.002124e+02, 5.231190e+01\n",
      "43, 2.150000e+01, 9.263683e+02, 5.231564e+01\n",
      "44, 2.200000e+01, 9.525261e+02, 5.231869e+01\n",
      "45, 2.250000e+01, 9.786855e+02, 5.232116e+01\n",
      "46, 2.300000e+01, 1.004846e+03, 5.232317e+01\n",
      "47, 2.350000e+01, 1.031008e+03, 5.232480e+01\n",
      "48, 2.400000e+01, 1.057170e+03, 5.232612e+01\n",
      "49, 2.450000e+01, 1.083333e+03, 5.232720e+01\n",
      "50, 2.500000e+01, 1.109497e+03, 5.232808e+01\n",
      "51, 2.550000e+01, 1.135661e+03, 5.232879e+01\n",
      "52, 2.600000e+01, 1.161825e+03, 5.232937e+01\n",
      "53, 2.650000e+01, 1.187990e+03, 5.232984e+01\n",
      "54, 2.700000e+01, 1.214155e+03, 5.233022e+01\n",
      "55, 2.750000e+01, 1.240320e+03, 5.233053e+01\n",
      "56, 2.800000e+01, 1.266485e+03, 5.233078e+01\n",
      "57, 2.850000e+01, 1.292651e+03, 5.233099e+01\n",
      "58, 2.900000e+01, 1.318816e+03, 5.233115e+01\n",
      "59, 2.950000e+01, 1.344982e+03, 5.233129e+01\n",
      "60, 3.000000e+01, 1.371147e+03, 5.233140e+01\n",
      "61, 3.050000e+01, 1.397313e+03, 5.233149e+01\n",
      "62, 3.100000e+01, 1.423479e+03, 5.233156e+01\n",
      "63, 3.150000e+01, 1.449644e+03, 5.233162e+01\n",
      "64, 3.200000e+01, 1.475810e+03, 5.233167e+01\n",
      "65, 3.250000e+01, 1.501976e+03, 5.233170e+01\n",
      "66, 3.300000e+01, 1.528142e+03, 5.233174e+01\n",
      "67, 3.350000e+01, 1.554308e+03, 5.233176e+01\n",
      "68, 3.400000e+01, 1.580474e+03, 5.233178e+01\n",
      "69, 3.450000e+01, 1.606640e+03, 5.233180e+01\n",
      "70, 3.500000e+01, 1.632805e+03, 5.233181e+01\n",
      "71, 3.550000e+01, 1.658971e+03, 5.233183e+01\n",
      "72, 3.600000e+01, 1.685137e+03, 5.233183e+01\n",
      "73, 3.650000e+01, 1.711303e+03, 5.233184e+01\n",
      "74, 3.700000e+01, 1.737469e+03, 5.233185e+01\n",
      "75, 3.750000e+01, 1.763635e+03, 5.233185e+01\n",
      "76, 3.800000e+01, 1.789801e+03, 5.233186e+01\n",
      "77, 3.850000e+01, 1.815967e+03, 5.233186e+01\n",
      "78, 3.900000e+01, 1.842133e+03, 5.233186e+01\n",
      "79, 3.950000e+01, 1.868299e+03, 5.233186e+01\n",
      "80, 4.000000e+01, 1.894465e+03, 5.233187e+01\n",
      "81, 4.050000e+01, 1.920631e+03, 5.233187e+01\n",
      "82, 4.100000e+01, 1.946797e+03, 5.233187e+01\n",
      "83, 4.150000e+01, 1.972963e+03, 5.233187e+01\n",
      "84, 4.200000e+01, 1.999128e+03, 5.233187e+01\n",
      "85, 4.250000e+01, 2.025294e+03, 5.233187e+01\n",
      "86, 4.300000e+01, 2.051460e+03, 5.233187e+01\n",
      "87, 4.350000e+01, 2.077626e+03, 5.233187e+01\n",
      "88, 4.400000e+01, 2.103792e+03, 5.233187e+01\n",
      "89, 4.450000e+01, 2.129958e+03, 5.233187e+01\n",
      "90, 4.500000e+01, 2.156124e+03, 5.233187e+01\n",
      "91, 4.550000e+01, 2.182290e+03, 5.233187e+01\n",
      "92, 4.600000e+01, 2.208456e+03, 5.233187e+01\n",
      "93, 4.650000e+01, 2.234622e+03, 5.233187e+01\n",
      "94, 4.700000e+01, 2.260788e+03, 5.233187e+01\n",
      "95, 4.750000e+01, 2.286954e+03, 5.233187e+01\n",
      "96, 4.800000e+01, 2.313120e+03, 5.233187e+01\n",
      "97, 4.850000e+01, 2.339286e+03, 5.233187e+01\n",
      "98, 4.900000e+01, 2.365452e+03, 5.233187e+01\n",
      "99, 4.950000e+01, 2.391617e+03, 5.233187e+01\n",
      "100, 5.000000e+01, 2.417783e+03, 5.233187e+01\n"
     ]
    }
   ],
   "source": [
    "// create solution data for x and v\n",
    "int n = 0;\n",
    "double initial_conditions[2] = {0, 0};\n",
    "\n",
    "n = ode_solver_euler(&vdot, &xdot, initial_conditions, &falling_jiachen);\n",
    "\n",
    "system_dump(&falling_jiachen);"
   ]
  },
  {
   "cell_type": "markdown",
   "id": "d454f7a8-cc81-406a-8454-51dfb895fdcd",
   "metadata": {},
   "source": [
    "#### Write parameters and data to CSV files"
   ]
  },
  {
   "cell_type": "code",
   "execution_count": 12,
   "id": "1f78a622-13c8-4be5-9ba9-5e34e780457e",
   "metadata": {},
   "outputs": [
    {
     "name": "stdout",
     "output_type": "stream",
     "text": [
      "writing CSV files ... done\n"
     ]
    }
   ],
   "source": [
    "// write CSV files\n",
    "cout << \"writing CSV files ... \";\n",
    "write_parameters_csv(&falling_jiachen, \"parameters.csv\");\n",
    "write_data_csv(&falling_jiachen, \"data_cxx.csv\");\n",
    "cout << \"done\" << endl;"
   ]
  },
  {
   "cell_type": "code",
   "execution_count": 13,
   "id": "6d9c6800-172c-4a3b-9c26-c620114729d3",
   "metadata": {},
   "outputs": [
    {
     "name": "stdout",
     "output_type": "stream",
     "text": [
      "23.3 us +- 3.46 us per loop (mean +- std. dev. of 7 runs 10000 loops each)\n"
     ]
    }
   ],
   "source": [
    "%%timeit\n",
    "ode_solver_euler(&vdot, &xdot, initial_conditions, &falling_jiachen);"
   ]
  }
 ],
 "metadata": {
  "authors": [
   {
    "name": "DUISC ISCP"
   },
   {
    "name": "Jeff Davidson"
   }
  ],
  "kernelspec": {
   "display_name": "C++17",
   "language": "C++17",
   "name": "xcpp17"
  },
  "language_info": {
   "codemirror_mode": "text/x-c++src",
   "file_extension": ".cpp",
   "mimetype": "text/x-c++src",
   "name": "c++",
   "version": "17"
  },
  "title": "ODE-1: Solving first-order ODEs using the Euler method"
 },
 "nbformat": 4,
 "nbformat_minor": 5
}
