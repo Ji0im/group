{
 "cells": [
  {
   "cell_type": "markdown",
   "id": "2c723ab9-5d22-4647-89fb-9782ede66c63",
   "metadata": {},
   "source": [
    "## System ODEs for the simple pendulum model\n",
    "The following equations will be used to create a simplified model of a pendulum system.\n",
    "\\begin{align}\n",
    "m\\ddot{x} &= mg - kx - c\\dot{x}\\\\\n",
    "\\ddot{x}_{ss} &= \\frac{mg}{k}\\\\\n",
    "\\end{align}"
   ]
  },
  {
   "cell_type": "code",
   "execution_count": 37,
   "id": "844c5b97-c71b-4345-9a8e-9ef8eb2b1234",
   "metadata": {},
   "outputs": [],
   "source": [
    "from sympy import Symbol, Function, dsolve, lambdify, simplify, Eq, classify_ode, pi\n",
    "import numpy as np\n",
    "import pandas as pd\n",
    "import sympy as sym\n",
    "import matplotlib.pyplot as plt"
   ]
  },
  {
   "cell_type": "code",
   "execution_count": 38,
   "id": "12b2b825-1e70-4772-91aa-0804bd6b462d",
   "metadata": {},
   "outputs": [],
   "source": [
    "# system parameter variables\n",
    "m = Symbol('m')\n",
    "H = Symbol('H')\n",
    "c = Symbol('c')\n",
    "k = Symbol('k')\n",
    "g = Symbol('g')\n",
    "\n",
    "#independent variable\n",
    "t = Symbol('t')"
   ]
  },
  {
   "cell_type": "code",
   "execution_count": 39,
   "id": "63cea7e6-ba68-4f2d-a85a-715ef96ce7e4",
   "metadata": {},
   "outputs": [],
   "source": [
    "# general differential functions\n",
    "x = sym.Function('x')(t)\n",
    "xdot = x.diff(t)\n",
    "xddot = xdot.diff(t)"
   ]
  },
  {
   "cell_type": "markdown",
   "id": "e83a397e-6da9-47ac-9980-e809dbcdaa9f",
   "metadata": {},
   "source": [
    "### General ODE using SymPy"
   ]
  },
  {
   "cell_type": "code",
   "execution_count": 40,
   "id": "fc9f2e3f-080f-43b4-a831-e87580ed10be",
   "metadata": {},
   "outputs": [
    {
     "data": {
      "text/latex": [
       "$\\displaystyle m \\frac{d^{2}}{d t^{2}} x{\\left(t \\right)} = - c \\frac{d}{d t} x{\\left(t \\right)} + g m - k x{\\left(t \\right)}$"
      ],
      "text/plain": [
       "Eq(m*Derivative(x(t), (t, 2)), -c*Derivative(x(t), t) + g*m - k*x(t))"
      ]
     },
     "metadata": {},
     "output_type": "display_data"
    }
   ],
   "source": [
    "# general ODE\n",
    "expr = Eq(m*xddot, m*g - k*x - c*xdot)\n",
    "display(expr)"
   ]
  },
  {
   "cell_type": "markdown",
   "id": "6b2fa90f-b80f-4856-93b7-94fe3ab29c92",
   "metadata": {},
   "source": [
    "### Setting parameter values"
   ]
  },
  {
   "cell_type": "code",
   "execution_count": 41,
   "id": "59cd85f0-879a-4da7-8e32-9fdb27761ecf",
   "metadata": {},
   "outputs": [],
   "source": [
    "# substitute parameter values\n",
    "m = 60\n",
    "H = 40\n",
    "c = 17\n",
    "k = 37\n",
    "g = 9.81"
   ]
  },
  {
   "cell_type": "code",
   "execution_count": 42,
   "id": "232be8dc-fcf7-4990-a343-9d57264cb0ac",
   "metadata": {},
   "outputs": [
    {
     "data": {
      "text/html": [
       "<div>\n",
       "<style scoped>\n",
       "    .dataframe tbody tr th:only-of-type {\n",
       "        vertical-align: middle;\n",
       "    }\n",
       "\n",
       "    .dataframe tbody tr th {\n",
       "        vertical-align: top;\n",
       "    }\n",
       "\n",
       "    .dataframe thead th {\n",
       "        text-align: right;\n",
       "    }\n",
       "</style>\n",
       "<table border=\"1\" class=\"dataframe\">\n",
       "  <thead>\n",
       "    <tr style=\"text-align: right;\">\n",
       "      <th></th>\n",
       "      <th>parameter</th>\n",
       "      <th>value</th>\n",
       "    </tr>\n",
       "  </thead>\n",
       "  <tbody>\n",
       "    <tr>\n",
       "      <th>0</th>\n",
       "      <td>m</td>\n",
       "      <td>60.00</td>\n",
       "    </tr>\n",
       "    <tr>\n",
       "      <th>1</th>\n",
       "      <td>H</td>\n",
       "      <td>40.00</td>\n",
       "    </tr>\n",
       "    <tr>\n",
       "      <th>2</th>\n",
       "      <td>c</td>\n",
       "      <td>17.00</td>\n",
       "    </tr>\n",
       "    <tr>\n",
       "      <th>3</th>\n",
       "      <td>k</td>\n",
       "      <td>37.00</td>\n",
       "    </tr>\n",
       "    <tr>\n",
       "      <th>4</th>\n",
       "      <td>g</td>\n",
       "      <td>9.81</td>\n",
       "    </tr>\n",
       "  </tbody>\n",
       "</table>\n",
       "</div>"
      ],
      "text/plain": [
       "  parameter  value\n",
       "0         m  60.00\n",
       "1         H  40.00\n",
       "2         c  17.00\n",
       "3         k  37.00\n",
       "4         g   9.81"
      ]
     },
     "metadata": {},
     "output_type": "display_data"
    }
   ],
   "source": [
    "# create and displaya table of parameter values\n",
    "df = pd.DataFrame({\"parameter\": ['m', 'H', 'c','k', 'g'], 'value': [m, H, c, k, g]})\n",
    "display(df)"
   ]
  },
  {
   "cell_type": "markdown",
   "id": "8b4be4ef-aad5-4fe5-8301-4c5df087cfb3",
   "metadata": {},
   "source": [
    "### Specific ODE with chosen parameter values"
   ]
  },
  {
   "cell_type": "code",
   "execution_count": 43,
   "id": "af535236-f31f-4001-8bbb-f427c29116dd",
   "metadata": {},
   "outputs": [
    {
     "data": {
      "text/latex": [
       "$\\displaystyle 60 \\frac{d^{2}}{d t^{2}} x{\\left(t \\right)} = - 37 x{\\left(t \\right)} - 17 \\frac{d}{d t} x{\\left(t \\right)} + 588.6$"
      ],
      "text/plain": [
       "Eq(60*Derivative(x(t), (t, 2)), -37*x(t) - 17*Derivative(x(t), t) + 588.6)"
      ]
     },
     "metadata": {},
     "output_type": "display_data"
    }
   ],
   "source": [
    "# specific ODE with parameter values\n",
    "expr = Eq(m*xddot, m*g - k*x - c*xdot)\n",
    "display(expr)"
   ]
  },
  {
   "cell_type": "markdown",
   "id": "30b5ecbf-c6b8-42db-8433-9a0d2bb489f9",
   "metadata": {},
   "source": [
    "### Check ODE solver classifications"
   ]
  },
  {
   "cell_type": "code",
   "execution_count": 44,
   "id": "c7a323ad-4a30-4031-9557-b4ec574aedb4",
   "metadata": {},
   "outputs": [
    {
     "data": {
      "text/plain": [
       "('factorable',\n",
       " 'nth_linear_constant_coeff_undetermined_coefficients',\n",
       " 'nth_linear_constant_coeff_variation_of_parameters',\n",
       " 'nth_linear_constant_coeff_variation_of_parameters_Integral')"
      ]
     },
     "execution_count": 44,
     "metadata": {},
     "output_type": "execute_result"
    }
   ],
   "source": [
    "# check possible ODE solving methods\n",
    "classify_ode(expr)"
   ]
  },
  {
   "cell_type": "markdown",
   "id": "03c78fc4-e7c9-4fa6-9768-a0b936f13279",
   "metadata": {},
   "source": [
    "### General solution"
   ]
  },
  {
   "cell_type": "code",
   "execution_count": 45,
   "id": "758e324b-0097-4776-9ee9-3b9436f88395",
   "metadata": {},
   "outputs": [
    {
     "data": {
      "text/latex": [
       "$\\displaystyle \\left(C_{1} \\sin{\\left(0.772397062541166 t \\right)} + C_{2} \\cos{\\left(0.772397062541166 t \\right)}\\right) e^{- 0.141666666666667 t} + 15.9081081081081$"
      ],
      "text/plain": [
       "(C1*sin(0.772397062541166*t) + C2*cos(0.772397062541166*t))*exp(-0.141666666666667*t) + 15.9081081081081"
      ]
     },
     "execution_count": 45,
     "metadata": {},
     "output_type": "execute_result"
    }
   ],
   "source": [
    "# try general solution using default (first) solving method\n",
    "result = dsolve(expr, x, hint=\"default\")\n",
    "result.rhs"
   ]
  },
  {
   "cell_type": "markdown",
   "id": "621f1f00-0d4c-4591-b004-72dc17595789",
   "metadata": {},
   "source": [
    "### Specific solution using initial conditions"
   ]
  },
  {
   "cell_type": "code",
   "execution_count": 46,
   "id": "86793050-f811-4c35-af95-a9e6bb74d01e",
   "metadata": {},
   "outputs": [
    {
     "name": "stdout",
     "output_type": "stream",
     "text": [
      "initial conditions: x_0 = 0, xdot_0 = 0\n"
     ]
    },
    {
     "data": {
      "text/latex": [
       "$\\displaystyle \\left(- 2.91773332388681 \\sin{\\left(0.772397062541166 t \\right)} - 15.9081081081081 \\cos{\\left(0.772397062541166 t \\right)}\\right) e^{- 0.141666666666667 t} + 15.9081081081081$"
      ],
      "text/plain": [
       "(-2.91773332388681*sin(0.772397062541166*t) - 15.9081081081081*cos(0.772397062541166*t))*exp(-0.141666666666667*t) + 15.9081081081081"
      ]
     },
     "execution_count": 46,
     "metadata": {},
     "output_type": "execute_result"
    }
   ],
   "source": [
    "# get specific solution using initial conditions\n",
    "x_0 = 0\n",
    "xdot_0 = 0\n",
    "print(f\"initial conditions: x_0 = {x_0}, xdot_0 = {xdot_0}\")\n",
    "result = dsolve(expr, x, hint=\"factorable\", ics={x.subs(t,0): x_0, xdot.subs(t, 0): xdot_0})\n",
    "result.rhs"
   ]
  },
  {
   "cell_type": "markdown",
   "id": "d39fa8ec-8e73-430e-b276-9a35399e9de2",
   "metadata": {},
   "source": [
    "### Create data points and plot"
   ]
  },
  {
   "cell_type": "code",
   "execution_count": 47,
   "id": "635d4d0e-6254-4dcb-acdf-74b4b98e4c8d",
   "metadata": {},
   "outputs": [],
   "source": [
    "# create a lambda function in order to compute data points\n",
    "x = lambdify(t, result.rhs, 'numpy')"
   ]
  },
  {
   "cell_type": "code",
   "execution_count": 51,
   "id": "1e3b064a-39c8-461e-90f4-ebbaf0838a99",
   "metadata": {},
   "outputs": [],
   "source": [
    "# calculate steady-state\n",
    "x_ss = H - x_ss"
   ]
  },
  {
   "cell_type": "code",
   "execution_count": 52,
   "id": "2480376f-8fda-429b-8ee3-c3714adcf07c",
   "metadata": {},
   "outputs": [
    {
     "data": {
      "image/png": "[encoded data removed]",
      "text/plain": [
       "<Figure size 640x480 with 1 Axes>"
      ]
     },
     "metadata": {},
     "output_type": "display_data"
    }
   ],
   "source": [
    "# create data points and basic plot\n",
    "t = np.linspace(0, 100, 1000)\n",
    "plt.rcParams['font.family'] = 'serif'\n",
    "plt.rcParams['mathtext.fontset'] = 'cm'\n",
    "plt.plot(t, H - x(t))\n",
    "plt.plot([0, np.max(t)], [x_ss, x_ss], \"--\", label=\"steady-state\")\n",
    "plt.legend()\n",
    "plt.savefig(\"pendulum.png\")\n",
    "plt.show()"
   ]
  },
  {
   "cell_type": "code",
   "execution_count": 36,
   "id": "21ff1073-aace-4c4c-92a8-599efb6d2280",
   "metadata": {},
   "outputs": [
    {
     "data": {
      "text/html": [
       "<div>\n",
       "<style scoped>\n",
       "    .dataframe tbody tr th:only-of-type {\n",
       "        vertical-align: middle;\n",
       "    }\n",
       "\n",
       "    .dataframe tbody tr th {\n",
       "        vertical-align: top;\n",
       "    }\n",
       "\n",
       "    .dataframe thead th {\n",
       "        text-align: right;\n",
       "    }\n",
       "</style>\n",
       "<table border=\"1\" class=\"dataframe\">\n",
       "  <thead>\n",
       "    <tr style=\"text-align: right;\">\n",
       "      <th></th>\n",
       "      <th>x</th>\n",
       "      <th>y</th>\n",
       "    </tr>\n",
       "  </thead>\n",
       "  <tbody>\n",
       "    <tr>\n",
       "      <th>0</th>\n",
       "      <td>0.0000</td>\n",
       "      <td>40.000000</td>\n",
       "    </tr>\n",
       "    <tr>\n",
       "      <th>1</th>\n",
       "      <td>0.1001</td>\n",
       "      <td>39.951338</td>\n",
       "    </tr>\n",
       "    <tr>\n",
       "      <th>2</th>\n",
       "      <td>0.2002</td>\n",
       "      <td>39.807468</td>\n",
       "    </tr>\n",
       "    <tr>\n",
       "      <th>3</th>\n",
       "      <td>0.3003</td>\n",
       "      <td>39.571927</td>\n",
       "    </tr>\n",
       "    <tr>\n",
       "      <th>4</th>\n",
       "      <td>0.4004</td>\n",
       "      <td>39.248713</td>\n",
       "    </tr>\n",
       "    <tr>\n",
       "      <th>...</th>\n",
       "      <td>...</td>\n",
       "      <td>...</td>\n",
       "    </tr>\n",
       "    <tr>\n",
       "      <th>995</th>\n",
       "      <td>99.5996</td>\n",
       "      <td>24.091895</td>\n",
       "    </tr>\n",
       "    <tr>\n",
       "      <th>996</th>\n",
       "      <td>99.6997</td>\n",
       "      <td>24.091894</td>\n",
       "    </tr>\n",
       "    <tr>\n",
       "      <th>997</th>\n",
       "      <td>99.7998</td>\n",
       "      <td>24.091893</td>\n",
       "    </tr>\n",
       "    <tr>\n",
       "      <th>998</th>\n",
       "      <td>99.8999</td>\n",
       "      <td>24.091892</td>\n",
       "    </tr>\n",
       "    <tr>\n",
       "      <th>999</th>\n",
       "      <td>100.0000</td>\n",
       "      <td>24.091891</td>\n",
       "    </tr>\n",
       "  </tbody>\n",
       "</table>\n",
       "<p>1000 rows × 2 columns</p>\n",
       "</div>"
      ],
      "text/plain": [
       "            x          y\n",
       "0      0.0000  40.000000\n",
       "1      0.1001  39.951338\n",
       "2      0.2002  39.807468\n",
       "3      0.3003  39.571927\n",
       "4      0.4004  39.248713\n",
       "..        ...        ...\n",
       "995   99.5996  24.091895\n",
       "996   99.6997  24.091894\n",
       "997   99.7998  24.091893\n",
       "998   99.8999  24.091892\n",
       "999  100.0000  24.091891\n",
       "\n",
       "[1000 rows x 2 columns]"
      ]
     },
     "metadata": {},
     "output_type": "display_data"
    }
   ],
   "source": [
    "dd = pd.DataFrame({'x': t, 'y': H - x(t)})\n",
    "display(dd)"
   ]
  },
  {
   "cell_type": "code",
   "execution_count": 339,
   "id": "08148d32-b703-4228-9ff8-e76b0b042c39",
   "metadata": {},
   "outputs": [],
   "source": [
    "filename = \"data.csv\"\n",
    "dd.to_csv(filename, index=False)"
   ]
  },
  {
   "cell_type": "code",
   "execution_count": 53,
   "id": "296a284c-d30c-4226-8f70-92814b4aec5f",
   "metadata": {},
   "outputs": [],
   "source": [
    "import numpy as np\n",
    "import pandas as pd\n"
   ]
  },
  {
   "cell_type": "code",
   "execution_count": 65,
   "id": "c3d1ecd2-1df9-403f-add1-2092389a313d",
   "metadata": {},
   "outputs": [],
   "source": [
    "# 零交叉点函数\n",
    "def find_zero_crossings(data, time):\n",
    "    zero_crossings = []\n",
    "    # 检查数据的符号变化\n",
    "    sign_changes = np.sign(data[:-1]) != np.sign(data[1:])\n",
    "    for i in np.where(sign_changes)[0]:\n",
    "        # 线性插值来估算零交叉点的时间\n",
    "        zero_crossings.append((time[i+1] + time[i]) / 2)  # 或者进行更精确的计算\n",
    "    return zero_crossings\n",
    "\n",
    "# 转折点函数\n",
    "def find_turning_points(data, time):\n",
    "    turning_points = []\n",
    "    # 一阶差分来找到数据的增减变化\n",
    "    data_diff = np.diff(data)\n",
    "    # 二阶差分来确定极值点\n",
    "    extremes = np.diff(np.sign(data_diff))\n",
    "    for i in np.where(extremes != 0)[0] + 1:\n",
    "        turning_points.append(time[i])\n",
    "    return turning_points\n"
   ]
  },
  {
   "cell_type": "code",
   "execution_count": 66,
   "id": "b86a10ee-f4ba-4a91-81e6-92b17242d2f3",
   "metadata": {},
   "outputs": [
    {
     "name": "stdout",
     "output_type": "stream",
     "text": [
      "当前工作目录: /home/bpwg55/.local/share/Trash/files/group-main.4/week10\n",
      "工作目录中的文件: ['data.csv', 'Untitled.ipynb', '.ipynb_checkpoints', 'pendulum.png']\n"
     ]
    }
   ],
   "source": [
    "import os\n",
    "\n",
    "# 打印当前工作目录\n",
    "print(\"当前工作目录:\", os.getcwd())\n",
    "\n",
    "# 列出当前工作目录中的文件\n",
    "print(\"工作目录中的文件:\", os.listdir('.'))\n"
   ]
  },
  {
   "cell_type": "code",
   "execution_count": 67,
   "id": "4a207170-2ba6-4c6e-857b-485ff14778af",
   "metadata": {},
   "outputs": [
    {
     "name": "stdout",
     "output_type": "stream",
     "text": [
      "        x          y\n",
      "0  0.0000  40.000000\n",
      "1  0.1001  39.951338\n",
      "2  0.2002  39.807468\n",
      "3  0.3003  39.571927\n",
      "4  0.4004  39.248713\n"
     ]
    }
   ],
   "source": [
    "import pandas as pd\n",
    "\n",
    "# 使用正确的文件路径\n",
    "data_df = pd.read_csv('/home/bpwg55/.local/share/Trash/files/group-main.4/week10/data.csv')\n",
    "\n",
    "# 打印DataFrame的前几行，以确认数据已正确加载\n",
    "print(data_df.head())\n"
   ]
  },
  {
   "cell_type": "code",
   "execution_count": 68,
   "id": "4157f864-c446-4869-b247-30dfbc0a38b6",
   "metadata": {},
   "outputs": [],
   "source": [
    "# 确保这些是数值\n",
    "m = 60 # 系统质量\n",
    "g = 9.81 # 重力加速度\n",
    "k = 37 # 弹簧刚度\n",
    "H = 40 # 起始高度或参考点的高度\n",
    "\n",
    "# 基于这些数值计算 x_ss\n",
    "x_ss = (m * g) / k  # 计算出稳态位移\n",
    "\n",
    "# 现在计算相对于 H 的位移\n",
    "relative_x_ss = H - x_ss\n",
    "\n",
    "# 继续你的数据处理...\n"
   ]
  },
  {
   "cell_type": "code",
   "execution_count": 69,
   "id": "b2239d3d-402f-4e03-ad75-3c647405a1cf",
   "metadata": {},
   "outputs": [],
   "source": [
    "# 替换以下路径和列名为你的实际文件路径和列名\n",
    "data_df = pd.read_csv('/home/bpwg55/.local/share/Trash/files/group-main.4/week10/data.csv')\n",
    "x_t = data_df.iloc[:, 0]  # 假设 x(t) 在第一列\n",
    "time = data_df.iloc[:, 1]  # 假设时间在第二列\n",
    "\n",
    "# 假设以下是已知的稳态值 x_ss\n",
    "x_ss = H - x_ss # 将 ... 替换为实际的稳态值\n",
    "data_df['x_minus_xss'] = x_t - x_ss\n"
   ]
  },
  {
   "cell_type": "code",
   "execution_count": 73,
   "id": "b8c9885b-46ad-4747-a740-8f473c9cf15f",
   "metadata": {},
   "outputs": [
    {
     "name": "stdout",
     "output_type": "stream",
     "text": [
      "Index(['x', 'y', 'x_minus_xss'], dtype='object')\n"
     ]
    }
   ],
   "source": [
    "print(data_df.columns)\n"
   ]
  },
  {
   "cell_type": "code",
   "execution_count": 72,
   "id": "b5dacb76-05c2-4799-ba7c-ee151e81c0f1",
   "metadata": {},
   "outputs": [
    {
     "name": "stdout",
     "output_type": "stream",
     "text": [
      "0   -24.091892\n",
      "1   -23.991792\n",
      "2   -23.891692\n",
      "3   -23.791592\n",
      "4   -23.691491\n",
      "Name: x_minus_xss, dtype: float64\n",
      "0    40.000000\n",
      "1    39.951338\n",
      "2    39.807468\n",
      "3    39.571927\n",
      "4    39.248713\n",
      "Name: y, dtype: float64\n",
      "0   -24.091892\n",
      "1   -23.991792\n",
      "2   -23.891692\n",
      "3   -23.791592\n",
      "4   -23.691491\n",
      "5   -23.591391\n",
      "6   -23.491291\n",
      "7   -23.391191\n",
      "8   -23.291091\n",
      "9   -23.190991\n",
      "Name: x_minus_xss, dtype: float64\n",
      "[0.1001001 0.1001001 0.1001001 0.1001001 0.1001001 0.1001001 0.1001001\n",
      " 0.1001001 0.1001001]\n"
     ]
    }
   ],
   "source": [
    "# 确认数据列是否包含有效数据\n",
    "print(data_df['x_minus_xss'].head())\n",
    "print(time.head())\n",
    "\n",
    "# 手动检查前几个数据点，看看是否应该有零交叉点和转折点\n",
    "print(data_df['x_minus_xss'][:10])\n",
    "print(np.diff(data_df['x_minus_xss'][:10]))\n"
   ]
  },
  {
   "cell_type": "code",
   "execution_count": 80,
   "id": "f8a6d836-d9c4-4f35-aac8-71291ef5a702",
   "metadata": {},
   "outputs": [
    {
     "name": "stdout",
     "output_type": "stream",
     "text": [
      "零交叉点时间:  [25.595754122107014]\n",
      "转折点时间:  []\n"
     ]
    }
   ],
   "source": [
    "import pandas as pd\n",
    "import numpy as np\n",
    "\n",
    "# 定义物理常数和条件\n",
    "m = 60  # 质量 (kg)\n",
    "g = 9.81  # 重力加速度 (m/s^2)\n",
    "k = 37  # 弹簧刚度 (N/m)\n",
    "H = 40  # 起始高度 (m)\n",
    "\n",
    "# 计算稳态位移 x_ss\n",
    "x_ss = (m * g) / k\n",
    "\n",
    "# 读取数据\n",
    "data_df = pd.read_csv('/home/bpwg55/.local/share/Trash/files/group-main.4/week10/data.csv')\n",
    "\n",
    "# 创建 x_minus_xss 列\n",
    "data_df['x_minus_xss'] = data_df['x'] - x_ss\n",
    "\n",
    "# 将 Pandas Series 转换为 numpy 数组\n",
    "x_values = data_df['x'].to_numpy()\n",
    "y_values = data_df['y'].to_numpy()\n",
    "x_minus_xss_values = data_df['x_minus_xss'].to_numpy()\n",
    "\n",
    "# 定义寻找零交叉点的函数\n",
    "def find_zero_crossings(data, time):\n",
    "    zero_crossings = []\n",
    "    sign_changes = np.sign(data[:-1]) != np.sign(data[1:])\n",
    "    for i in np.where(sign_changes)[0]:\n",
    "        zero_crossings.append((time[i] + time[i+1]) / 2)\n",
    "    return zero_crossings\n",
    "\n",
    "# 定义寻找转折点的函数\n",
    "def find_turning_points(data, time):\n",
    "    turning_points = []\n",
    "    data_diff = np.diff(data)\n",
    "    extremes = np.diff(np.sign(data_diff))\n",
    "    for i in np.where(extremes != 0)[0]:\n",
    "        turning_points.append(time[i+1])  # i+1 为极值点的位置\n",
    "    return turning_points\n",
    "\n",
    "# 调用函数\n",
    "zero_crossings = find_zero_crossings(x_minus_xss_values, y_values)\n",
    "turning_points = find_turning_points(x_values, y_values)\n",
    "\n",
    "# 打印结果\n",
    "print(\"零交叉点时间: \", zero_crossings)\n",
    "print(\"转折点时间: \", turning_points)\n"
   ]
  },
  {
   "cell_type": "code",
   "execution_count": null,
   "id": "64285048-7ec8-4f32-a3a5-3e8682eea4cd",
   "metadata": {},
   "outputs": [],
   "source": []
  }
 ],
 "metadata": {
  "kernelspec": {
   "display_name": "Python 3 (ipykernel)",
   "language": "python",
   "name": "python3"
  },
  "language_info": {
   "codemirror_mode": {
    "name": "ipython",
    "version": 3
   },
   "file_extension": ".py",
   "mimetype": "text/x-python",
   "name": "python",
   "nbconvert_exporter": "python",
   "pygments_lexer": "ipython3",
   "version": "3.10.14"
  }
 },
 "nbformat": 4,
 "nbformat_minor": 5
}
